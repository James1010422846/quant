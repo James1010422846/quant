{
 "cells": [
  {
   "cell_type": "code",
   "execution_count": 171,
   "metadata": {
    "collapsed": false
   },
   "outputs": [],
   "source": [
    "import tushare as ts\n",
    "import pandas as pd\n",
    "import datetime\n",
    "import logging"
   ]
  },
  {
   "cell_type": "code",
   "execution_count": 172,
   "metadata": {
    "collapsed": false,
    "scrolled": true
   },
   "outputs": [
    {
     "name": "stdout",
     "output_type": "stream",
     "text": [
      "2003-01-06\n",
      "            date  open  high  close   low     volume      amount\n",
      "3100  2003-01-06  1.10  1.11   1.00  0.99  194288556   998892578\n",
      "3099  2003-01-07  0.99  1.01   0.97  0.96   58977717   290622430\n",
      "3098  2003-01-08  0.96  1.06   1.06  0.96   72064078   368411113\n",
      "3097  2003-01-09  1.12  1.17   1.17  1.12  110086868   636358017\n",
      "3096  2003-01-10  1.23  1.29   1.24  1.22  206393422  1300495478\n"
     ]
    }
   ],
   "source": [
    "#basics = ts.get_stock_basics()\n",
    "#basics.to_csv('e:/quant/data/basics.csv')\n",
    "def getStockBaseMarketTime(code=600030):\n",
    "    basics = pd.read_csv('e:/quant/data/basics.csv')\n",
    "    data = basics.loc[basics.code==code]\n",
    "    timeToMarket = data['timeToMarket']\n",
    "    startDate = datetime.datetime(timeToMarket/10000 ,timeToMarket%10000/100 , timeToMarket%10000%100) \n",
    "    return startDate.strftime('%Y-%m-%d')\n",
    "\n",
    "#第一次从网络上获取然后存储在本地，后续均从本地文件获取\n",
    "#内部调用函数\n",
    "def getStockHistInfoInner(code=600030):\n",
    "    startTime = getStockBaseMarketTime(code)\n",
    "    print startTime \n",
    "    try:\n",
    "        data = pd.read_csv('e:/quant/data/'+str(code)+'.csv')\n",
    "        data = data.sort_values(by=\"date\" , ascending=True)\n",
    "    except IOError as e:\n",
    "        dt = datetime.datetime.now()   \n",
    "        data = ts.get_h_data(str(code) , start=startTime , end=dt.strftime('%Y-%m-%d'))\n",
    "        data.to_csv('e:/quant/data/'+str(code)+'.csv')\n",
    "        return None\n",
    "    return data\n",
    "\n",
    "#获取对应代码的股票历史行情信息\n",
    "def getStockHistInfo(code=600030):\n",
    "    data = getStockHistInfoInner(code)\n",
    "    if data is None:\n",
    "        data = getStockHistInfoInner(code)\n",
    "    if data is None:\n",
    "        logging.exception('the stock is still none')      \n",
    "    return data\n",
    "        \n",
    "    \n",
    "\n",
    "print getStockHistInfo(600030).head()\n",
    "\n",
    "\n",
    "\n"
   ]
  }
 ],
 "metadata": {
  "kernelspec": {
   "display_name": "Python 2",
   "language": "python",
   "name": "python2"
  },
  "language_info": {
   "codemirror_mode": {
    "name": "ipython",
    "version": 2
   },
   "file_extension": ".py",
   "mimetype": "text/x-python",
   "name": "python",
   "nbconvert_exporter": "python",
   "pygments_lexer": "ipython2",
   "version": "2.7.11"
  }
 },
 "nbformat": 4,
 "nbformat_minor": 0
}
