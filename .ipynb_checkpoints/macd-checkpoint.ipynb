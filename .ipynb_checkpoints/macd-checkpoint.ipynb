{
 "cells": [
  {
   "cell_type": "code",
   "execution_count": 21,
   "metadata": {
    "collapsed": false
   },
   "outputs": [],
   "source": [
    "import tushare as ts\n",
    "import pandas as pd\n",
    "import datetime\n",
    "import logging"
   ]
  },
  {
   "cell_type": "code",
   "execution_count": 22,
   "metadata": {
    "collapsed": false,
    "scrolled": true
   },
   "outputs": [
    {
     "name": "stderr",
     "output_type": "stream",
     "text": [
      "D:\\Program Files (x86)\\anaconda\\lib\\site-packages\\ipykernel\\__main__.py:52: SettingWithCopyWarning: \n",
      "A value is trying to be set on a copy of a slice from a DataFrame\n",
      "\n",
      "See the caveats in the documentation: http://pandas.pydata.org/pandas-docs/stable/indexing.html#indexing-view-versus-copy\n",
      "D:\\Program Files (x86)\\anaconda\\lib\\site-packages\\ipykernel\\__main__.py:53: SettingWithCopyWarning: \n",
      "A value is trying to be set on a copy of a slice from a DataFrame\n",
      "\n",
      "See the caveats in the documentation: http://pandas.pydata.org/pandas-docs/stable/indexing.html#indexing-view-versus-copy\n",
      "D:\\Program Files (x86)\\anaconda\\lib\\site-packages\\ipykernel\\__main__.py:54: SettingWithCopyWarning: \n",
      "A value is trying to be set on a copy of a slice from a DataFrame\n",
      "\n",
      "See the caveats in the documentation: http://pandas.pydata.org/pandas-docs/stable/indexing.html#indexing-view-versus-copy\n"
     ]
    },
    {
     "name": "stdout",
     "output_type": "stream",
     "text": [
      "2003-01-06\n",
      "            date  open  high  close   low     volume      amount\n",
      "3100  2003-01-06  1.10  1.11   1.00  0.99  194288556   998892578\n",
      "3099  2003-01-07  0.99  1.01   0.97  0.96   58977717   290622430\n",
      "3098  2003-01-08  0.96  1.06   1.06  0.96   72064078   368411113\n",
      "3097  2003-01-09  1.12  1.17   1.17  1.12  110086868   636358017\n",
      "3096  2003-01-10  1.23  1.29   1.24  1.22  206393422  1300495478\n"
     ]
    },
    {
     "name": "stderr",
     "output_type": "stream",
     "text": [
      "D:\\Program Files (x86)\\anaconda\\lib\\site-packages\\ipykernel\\__main__.py:55: SettingWithCopyWarning: \n",
      "A value is trying to be set on a copy of a slice from a DataFrame\n",
      "\n",
      "See the caveats in the documentation: http://pandas.pydata.org/pandas-docs/stable/indexing.html#indexing-view-versus-copy\n",
      "D:\\Program Files (x86)\\anaconda\\lib\\site-packages\\ipykernel\\__main__.py:56: SettingWithCopyWarning: \n",
      "A value is trying to be set on a copy of a slice from a DataFrame\n",
      "\n",
      "See the caveats in the documentation: http://pandas.pydata.org/pandas-docs/stable/indexing.html#indexing-view-versus-copy\n"
     ]
    },
    {
     "ename": "TypeError",
     "evalue": "set_value() takes at most 4 arguments (7 given)",
     "output_type": "error",
     "traceback": [
      "\u001b[1;31m---------------------------------------------------------------------------\u001b[0m",
      "\u001b[1;31mTypeError\u001b[0m                                 Traceback (most recent call last)",
      "\u001b[1;32m<ipython-input-22-142bce502e91>\u001b[0m in \u001b[0;36m<module>\u001b[1;34m()\u001b[0m\n\u001b[0;32m     68\u001b[0m \u001b[0mdata\u001b[0m \u001b[1;33m=\u001b[0m \u001b[0mgetStockHistInfo\u001b[0m\u001b[1;33m(\u001b[0m\u001b[1;36m600030\u001b[0m\u001b[1;33m)\u001b[0m\u001b[1;33m\u001b[0m\u001b[0m\n\u001b[0;32m     69\u001b[0m \u001b[1;32mprint\u001b[0m \u001b[0mdata\u001b[0m\u001b[1;33m.\u001b[0m\u001b[0mhead\u001b[0m\u001b[1;33m(\u001b[0m\u001b[1;33m)\u001b[0m\u001b[1;33m\u001b[0m\u001b[0m\n\u001b[1;32m---> 70\u001b[1;33m \u001b[0mmacd\u001b[0m \u001b[1;33m=\u001b[0m \u001b[0mcalcMacd\u001b[0m\u001b[1;33m(\u001b[0m\u001b[0mdata\u001b[0m \u001b[1;33m,\u001b[0m \u001b[1;36m600030\u001b[0m\u001b[1;33m)\u001b[0m\u001b[1;33m\u001b[0m\u001b[0m\n\u001b[0m\u001b[0;32m     71\u001b[0m \u001b[1;32mprint\u001b[0m \u001b[0mdata\u001b[0m\u001b[1;33m.\u001b[0m\u001b[0mhead\u001b[0m\u001b[1;33m(\u001b[0m\u001b[1;33m)\u001b[0m\u001b[1;33m\u001b[0m\u001b[0m\n\u001b[0;32m     72\u001b[0m \u001b[1;32mprint\u001b[0m \u001b[0mmacd\u001b[0m\u001b[1;33m.\u001b[0m\u001b[0mhead\u001b[0m\u001b[1;33m(\u001b[0m\u001b[1;33m)\u001b[0m\u001b[1;33m\u001b[0m\u001b[0m\n",
      "\u001b[1;32m<ipython-input-22-142bce502e91>\u001b[0m in \u001b[0;36mcalcMacd\u001b[1;34m(data, code)\u001b[0m\n\u001b[0;32m     63\u001b[0m         \u001b[0mdea\u001b[0m \u001b[1;33m=\u001b[0m \u001b[0mround\u001b[0m\u001b[1;33m(\u001b[0m\u001b[0mround\u001b[0m\u001b[1;33m(\u001b[0m\u001b[0mdata\u001b[0m\u001b[1;33m.\u001b[0m\u001b[0miloc\u001b[0m\u001b[1;33m[\u001b[0m\u001b[0mi\u001b[0m\u001b[1;33m-\u001b[0m\u001b[1;36m1\u001b[0m\u001b[1;33m]\u001b[0m\u001b[1;33m[\u001b[0m\u001b[1;34m'dea'\u001b[0m\u001b[1;33m]\u001b[0m \u001b[1;33m*\u001b[0m \u001b[1;36m8.0\u001b[0m \u001b[1;33m/\u001b[0m \u001b[1;36m10.0\u001b[0m \u001b[1;33m,\u001b[0m \u001b[1;36m4\u001b[0m\u001b[1;33m)\u001b[0m \u001b[1;33m+\u001b[0m \u001b[0mround\u001b[0m\u001b[1;33m(\u001b[0m\u001b[0mdata\u001b[0m\u001b[1;33m.\u001b[0m\u001b[0miloc\u001b[0m\u001b[1;33m[\u001b[0m\u001b[0mi\u001b[0m\u001b[1;33m]\u001b[0m\u001b[1;33m[\u001b[0m\u001b[1;34m'diff'\u001b[0m\u001b[1;33m]\u001b[0m \u001b[1;33m*\u001b[0m \u001b[1;36m2.0\u001b[0m \u001b[1;33m/\u001b[0m \u001b[1;36m10.0\u001b[0m \u001b[1;33m,\u001b[0m \u001b[1;36m4\u001b[0m\u001b[1;33m)\u001b[0m \u001b[1;33m,\u001b[0m \u001b[1;36m3\u001b[0m\u001b[1;33m)\u001b[0m\u001b[1;33m\u001b[0m\u001b[0m\n\u001b[0;32m     64\u001b[0m         \u001b[0mbar\u001b[0m \u001b[1;33m=\u001b[0m \u001b[0mround\u001b[0m\u001b[1;33m(\u001b[0m\u001b[1;36m2\u001b[0m \u001b[1;33m*\u001b[0m \u001b[1;33m(\u001b[0m\u001b[0mdata\u001b[0m\u001b[1;33m.\u001b[0m\u001b[0miloc\u001b[0m\u001b[1;33m[\u001b[0m\u001b[0mi\u001b[0m\u001b[1;33m]\u001b[0m\u001b[1;33m[\u001b[0m\u001b[1;34m'diff'\u001b[0m\u001b[1;33m]\u001b[0m \u001b[1;33m-\u001b[0m \u001b[0mdata\u001b[0m\u001b[1;33m.\u001b[0m\u001b[0miloc\u001b[0m\u001b[1;33m[\u001b[0m\u001b[0mi\u001b[0m\u001b[1;33m]\u001b[0m\u001b[1;33m[\u001b[0m\u001b[1;34m'dea'\u001b[0m\u001b[1;33m]\u001b[0m\u001b[1;33m)\u001b[0m \u001b[1;33m,\u001b[0m \u001b[1;36m3\u001b[0m\u001b[1;33m)\u001b[0m\u001b[1;33m\u001b[0m\u001b[0m\n\u001b[1;32m---> 65\u001b[1;33m         \u001b[1;32mprint\u001b[0m \u001b[0mdata\u001b[0m\u001b[1;33m.\u001b[0m\u001b[0miloc\u001b[0m\u001b[1;33m[\u001b[0m\u001b[0mi\u001b[0m\u001b[1;33m]\u001b[0m\u001b[1;33m.\u001b[0m\u001b[0mset_value\u001b[0m\u001b[1;33m(\u001b[0m\u001b[1;33m(\u001b[0m\u001b[1;34m'ema12'\u001b[0m\u001b[1;33m,\u001b[0m\u001b[1;34m'ema26'\u001b[0m \u001b[1;33m,\u001b[0m \u001b[1;34m'diff'\u001b[0m \u001b[1;33m,\u001b[0m \u001b[1;34m'dea'\u001b[0m\u001b[1;33m,\u001b[0m\u001b[1;34m'bar'\u001b[0m\u001b[1;33m)\u001b[0m \u001b[1;33m,\u001b[0m \u001b[0mema12\u001b[0m \u001b[1;33m,\u001b[0m \u001b[0mema26\u001b[0m \u001b[1;33m,\u001b[0m \u001b[0mdif\u001b[0m \u001b[1;33m,\u001b[0m \u001b[0mdea\u001b[0m \u001b[1;33m,\u001b[0m \u001b[0mbar\u001b[0m\u001b[1;33m)\u001b[0m\u001b[1;33m\u001b[0m\u001b[0m\n\u001b[0m\u001b[0;32m     66\u001b[0m     \u001b[1;32mreturn\u001b[0m \u001b[0mdata\u001b[0m\u001b[1;33m\u001b[0m\u001b[0m\n\u001b[0;32m     67\u001b[0m \u001b[1;33m\u001b[0m\u001b[0m\n",
      "\u001b[1;31mTypeError\u001b[0m: set_value() takes at most 4 arguments (7 given)"
     ]
    }
   ],
   "source": [
    "#basics = ts.get_stock_basics()\n",
    "#basics.to_csv('e:/quant/data/basics.csv')\n",
    "def getStockBaseMarketTime(code=600030):\n",
    "    basics = pd.read_csv('d:/dev/quant/data/basics.csv')\n",
    "    data = basics.loc[basics.code==code]\n",
    "    timeToMarket = data['timeToMarket']\n",
    "    startDate = datetime.datetime(timeToMarket/10000 ,timeToMarket%10000/100 , timeToMarket%10000%100) \n",
    "    return startDate.strftime('%Y-%m-%d')\n",
    "\n",
    "#第一次从网络上获取然后存储在本地，后续均从本地文件获取\n",
    "#内部调用函数\n",
    "def getStockHistInfoInner(code=600030):\n",
    "    startTime = getStockBaseMarketTime(code)\n",
    "    print startTime \n",
    "    try:\n",
    "        data = pd.read_csv('d:/dev/quant/data/'+str(code)+'.csv')\n",
    "        data = data.sort_values(by=\"date\" , ascending=True)\n",
    "    except IOError as e:\n",
    "        dt = datetime.datetime.now()   \n",
    "        data = ts.get_h_data(str(code) , start=startTime , end=dt.strftime('%Y-%m-%d'))\n",
    "        data.to_csv('d:/dev/quant/data/'+str(code)+'.csv')\n",
    "        return None\n",
    "    return data\n",
    "\n",
    "#获取对应代码的股票历史行情信息\n",
    "def getStockHistInfo(code=600030):\n",
    "    data = getStockHistInfoInner(code)\n",
    "    if data is None:\n",
    "        data = getStockHistInfoInner(code)\n",
    "    if data is None:\n",
    "        logging.exception('the stock is still none')      \n",
    "    return data\n",
    "        \n",
    "    \n",
    "#EMA（12）= 前一日EMA（12）×11/13＋今日收盘价×2/13\n",
    "#EMA（26）= 前一日EMA（26）×25/27＋今日收盘价×2/27\n",
    "#DIFF=今日EMA（12）- 今日EMA（26）\n",
    "#DEA（MACD）= 前一日DEA×8/10＋今日DIF×2/10 \n",
    "#BAR=2×(DIFF－DEA)\n",
    "\n",
    "def calcMacd(data=None , code=600030):\n",
    "    if data is None:\n",
    "        return None\n",
    "    data['ema12'] = 0\n",
    "    data['ema26'] = 0\n",
    "    data['diff'] = 0\n",
    "    data['dea'] = 0\n",
    "    data['bar'] = 0\n",
    "    \n",
    "    \n",
    "    #上市第一天数据值均为0\n",
    "    data.iloc[0]['ema12'] = 0\n",
    "    data.iloc[0]['ema26'] = 0\n",
    "    data.iloc[0]['diff'] = 0\n",
    "    data.iloc[0]['dea'] = 0\n",
    "    data.iloc[0]['bar'] = 0\n",
    "    \n",
    "    \n",
    "    for i in range(1,10,1):\n",
    "        ema12 = round(round(data.iloc[i-1]['ema12'] * 11.0 / 13.0 , 4) + round(data.iloc[i]['close'] * 2.0 / 13.0 , 4) , 3)\n",
    "        ema26 = round(round(data.iloc[i-1]['ema26'] * 25.0 / 27.0 , 4) + round(data.iloc[i]['close'] * 2.0 / 27.0 , 4) , 3)\n",
    "        dif = round(data.iloc[i-1]['ema12'] - data.iloc[i-1]['ema26'] , 3)\n",
    "        dea = round(round(data.iloc[i-1]['dea'] * 8.0 / 10.0 , 4) + round(data.iloc[i]['diff'] * 2.0 / 10.0 , 4) , 3)\n",
    "        bar = round(2 * (data.iloc[i]['diff'] - data.iloc[i]['dea']) , 3)\n",
    "        data.iloc[i].set_value((i) , 'ema12' , ema12 )\n",
    "        data.iloc[i].set_value((i) , 'ema26' , ema26 )\n",
    "        data.iloc[i].set_value((i) , 'dif' , dif )\n",
    "        data.iloc[i].set_value((i) , 'dea' , dea )\n",
    "        data.iloc[i].set_value((i) , 'bar' , bar )\n",
    "        \n",
    "    return data\n",
    "\n",
    "data = getStockHistInfo(600030)\n",
    "print data.head()\n",
    "macd = calcMacd(data , 600030)\n",
    "print data.head()\n",
    "print macd.head()\n",
    "\n",
    "\n"
   ]
  }
 ],
 "metadata": {
  "kernelspec": {
   "display_name": "Python 2",
   "language": "python",
   "name": "python2"
  },
  "language_info": {
   "codemirror_mode": {
    "name": "ipython",
    "version": 2
   },
   "file_extension": ".py",
   "mimetype": "text/x-python",
   "name": "python",
   "nbconvert_exporter": "python",
   "pygments_lexer": "ipython2",
   "version": "2.7.11"
  }
 },
 "nbformat": 4,
 "nbformat_minor": 0
}
