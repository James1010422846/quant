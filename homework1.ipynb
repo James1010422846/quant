{
 "cells": [
  {
   "cell_type": "code",
   "execution_count": null,
   "metadata": {
    "collapsed": false
   },
   "outputs": [],
   "source": [
    "import QSTK.qstkutil.qsdateutil as du\n",
    "import QSTK.qstkutil.tsutil as tsu\n",
    "import QSTK.qstkutil.DataAccess as da\n",
    "\n",
    "import datetime as dt\n",
    "import matplotlib.pyplot as plt\n",
    "import pandas as pd\n",
    "import numpy as np\n",
    "import math\n",
    "\n",
    "\n",
    "def simulate(raw_data, ls_symbols , alloct):\n",
    "    daily_data = raw_data.copy();\n",
    "    daily_data[:]=1\n",
    "    daily_data['polio']=1;\n",
    "    daily_data['dailyRet']=0;\n",
    "    for i in range(1,len(raw_data),1):\n",
    "        daily_data.iloc[i] = (raw_data.iloc[i])/raw_data.iloc[0] \n",
    "        fixedDay = daily_data.iloc[i][ls_symbols[0]] * alloct[0] + daily_data.iloc[i][ls_symbols[1]] * alloct[1] +daily_data.iloc[i][ls_symbols[2]] * alloct[2]+daily_data.iloc[i][ls_symbols[3]] * alloct[3]\n",
    "        daily_data.iloc[i] = daily_data.iloc[i].set_value('polio' , fixedDay)\n",
    "        daily_data.iloc[i] = daily_data.iloc[i].set_value('dailyRet' , (daily_data.iloc[i]['polio'] - daily_data.iloc[i-1]['polio']) /daily_data.iloc[i-1]['polio'])\n",
    "    return math.sqrt(252) * daily_data['dailyRet'].mean() / daily_data['dailyRet'].std()\n",
    "\n",
    "    \n",
    "def bestPolio():\n",
    "    ls_symbols = ['BRCM', 'ADBE', 'AMD', 'ADI']\n",
    "    dt_start = dt.datetime(2010, 1, 1)\n",
    "    dt_end = dt.datetime(2010, 12, 31) \n",
    "    dt_timeofday = dt.timedelta(hours=16)\n",
    "    ldt_timestamps = du.getNYSEdays(dt_start, dt_end, dt_timeofday)\n",
    "    c_dataobj = da.DataAccess('Yahoo')\n",
    "    ls_keys = ['close']\n",
    "    ldf_data = c_dataobj.get_data(ldt_timestamps, ls_symbols, ls_keys)   \n",
    "    d_data = dict(zip(ls_keys, ldf_data))\n",
    "    raw_data = d_data['close']\n",
    "    res = [];\n",
    "    for i in range(0,10,1):\n",
    "        for j in range(0,10,1):\n",
    "            for k in range(0,10-i-j,1):\n",
    "                l = 1 - round(i,1)/10 - round(j,1)/10 - round(k,1)/10\n",
    "                if l >= 0:\n",
    "                    res.append(simulate(raw_data, ls_symbols , [round(i,1)/10, round(j,1)/10, round(k,1)/10, l]))\n",
    "    npres=np.array(res)\n",
    "    print npres.max()\n",
    "bestPolio()\n",
    "\n",
    "    \n",
    "  \n",
    "    \n",
    "   \n"
   ]
  }
 ],
 "metadata": {
  "kernelspec": {
   "display_name": "Python 2",
   "language": "python",
   "name": "python2"
  },
  "language_info": {
   "codemirror_mode": {
    "name": "ipython",
    "version": 2
   },
   "file_extension": ".py",
   "mimetype": "text/x-python",
   "name": "python",
   "nbconvert_exporter": "python",
   "pygments_lexer": "ipython2",
   "version": "2.7.11"
  }
 },
 "nbformat": 4,
 "nbformat_minor": 0
}
