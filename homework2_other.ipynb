{
 "cells": [
  {
   "cell_type": "code",
   "execution_count": 4,
   "metadata": {
    "collapsed": false
   },
   "outputs": [
    {
     "name": "stdout",
     "output_type": "stream",
     "text": [
      "Finding Events\n",
      "Creating Study\n"
     ]
    }
   ],
   "source": [
    "import pandas as pd\n",
    "import numpy as np\n",
    "import math\n",
    "import copy\n",
    "import QSTK.qstkutil.qsdateutil as du\n",
    "import datetime as dt\n",
    "import QSTK.qstkutil.DataAccess as da\n",
    "import QSTK.qstkutil.tsutil as tsu\n",
    "import QSTK.qstkstudy.EventProfiler as ep\n",
    " \n",
    "\n",
    "def find_events(ls_symbols, d_data):\n",
    "    df_close = d_data['actual_close']\n",
    "    ts_market = df_close['SPY']\n",
    " \n",
    "    print \"Finding Events\"\n",
    " \n",
    "    # Creating an empty dataframe\n",
    "    df_events = copy.deepcopy(df_close)\n",
    "    df_events = df_events * np.NAN\n",
    " \n",
    "    # Time stamps for the event range\n",
    "    ldt_timestamps = df_close.index\n",
    " \n",
    "    for s_sym in ls_symbols:\n",
    "        for i in range(1, len(ldt_timestamps)):\n",
    "            # Calculating the returns for this timestamp\n",
    "            f_symprice_today = df_close[s_sym].ix[ldt_timestamps[i]]\n",
    "            f_symprice_yest = df_close[s_sym].ix[ldt_timestamps[i - 1]]\n",
    "            #f_marketprice_today = ts_market.ix[ldt_timestamps[i]]\n",
    "            #f_marketprice_yest = ts_market.ix[ldt_timestamps[i - 1]]\n",
    "            #f_symreturn_today = (f_symprice_today / f_symprice_yest) - 1\n",
    "            #f_marketreturn_today = (f_marketprice_today / f_marketprice_yest) - 1\n",
    " \n",
    "            # Event is found if the symbol is down more then 3% while the\n",
    "            # market is up more then 2%\n",
    "            if f_symprice_today < 6.0 and f_symprice_yest >= 6.0:\n",
    "                df_events[s_sym].ix[ldt_timestamps[i]] = 1\n",
    " \n",
    "    return df_events\n",
    " \n",
    "if __name__ == '__main__':\n",
    "    dt_start = dt.datetime(2008, 1, 1)\n",
    "    dt_end = dt.datetime(2009, 12, 31)\n",
    "    ldt_timestamps = du.getNYSEdays(dt_start, dt_end, dt.timedelta(hours=16))\n",
    " \n",
    "    dataobj = da.DataAccess('Yahoo')\n",
    "    ls_symbols = dataobj.get_symbols_from_list('sp5002008')\n",
    "    ls_symbols.append('SPY')\n",
    " \n",
    "    ls_keys = ['open', 'high', 'low', 'close', 'volume', 'actual_close']\n",
    "    ldf_data = dataobj.get_data(ldt_timestamps, ls_symbols, ls_keys)\n",
    "    d_data = dict(zip(ls_keys, ldf_data))\n",
    " \n",
    "    for s_key in ls_keys:\n",
    "        d_data[s_key] = d_data[s_key].fillna(method='ffill')\n",
    "        d_data[s_key] = d_data[s_key].fillna(method='bfill')\n",
    "        d_data[s_key] = d_data[s_key].fillna(1.0)\n",
    " \n",
    "    df_events = find_events(ls_symbols, d_data)\n",
    "    print \"Creating Study\"\n",
    "    ep.eventprofiler(df_events, d_data, i_lookback=20, i_lookforward=20,\n",
    "                s_filename='MyEventStudysp5002008_6.pdf', b_market_neutral=True, b_errorbars=True,\n",
    "                s_market_sym='SPY')\n",
    "\n"
   ]
  }
 ],
 "metadata": {
  "kernelspec": {
   "display_name": "Python 2",
   "language": "python",
   "name": "python2"
  },
  "language_info": {
   "codemirror_mode": {
    "name": "ipython",
    "version": 2
   },
   "file_extension": ".py",
   "mimetype": "text/x-python",
   "name": "python",
   "nbconvert_exporter": "python",
   "pygments_lexer": "ipython2",
   "version": "2.7.11"
  }
 },
 "nbformat": 4,
 "nbformat_minor": 0
}
