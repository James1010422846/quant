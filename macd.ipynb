{
 "cells": [
  {
   "cell_type": "code",
   "execution_count": 1,
   "metadata": {
    "collapsed": false
   },
   "outputs": [],
   "source": [
    "import tushare as ts\n",
    "import pandas as pd\n",
    "import datetime\n",
    "import logging"
   ]
  },
  {
   "cell_type": "code",
   "execution_count": 2,
   "metadata": {
    "collapsed": false,
    "scrolled": true
   },
   "outputs": [
    {
     "name": "stdout",
     "output_type": "stream",
     "text": [
      "2003-01-06\n",
      "            date  open  high  close   low     volume      amount  ema12  \\\n",
      "3100  2003-01-06  1.10  1.11   1.00  0.99  194288556   998892578  0.000   \n",
      "3099  2003-01-07  0.99  1.01   0.97  0.96   58977717   290622430  0.149   \n",
      "3098  2003-01-08  0.96  1.06   1.06  0.96   72064078   368411113  0.289   \n",
      "3097  2003-01-09  1.12  1.17   1.17  1.12  110086868   636358017  0.424   \n",
      "3096  2003-01-10  1.23  1.29   1.24  1.22  206393422  1300495478  0.550   \n",
      "\n",
      "      ema26   diff    dea    bar  \n",
      "3100  0.000  0.000  0.000  0.000  \n",
      "3099  0.072  0.077  0.015  0.124  \n",
      "3098  0.145  0.144  0.041  0.206  \n",
      "3097  0.221  0.203  0.073  0.260  \n",
      "3096  0.296  0.254  0.109  0.290  \n"
     ]
    }
   ],
   "source": [
    "#basics = ts.get_stock_basics()\n",
    "#basics.to_csv('e:/quant/data/basics.csv')\n",
    "def getStockBaseMarketTime(code=600030):\n",
    "    basics = pd.read_csv('e:/quant/data/basics.csv')\n",
    "    data = basics.loc[basics.code==code]\n",
    "    timeToMarket = data['timeToMarket']\n",
    "    startDate = datetime.datetime(timeToMarket/10000 ,timeToMarket%10000/100 , timeToMarket%10000%100) \n",
    "    return startDate.strftime('%Y-%m-%d')\n",
    "\n",
    "#第一次从网络上获取然后存储在本地，后续均从本地文件获取\n",
    "#内部调用函数\n",
    "def getStockHistInfoInner(code=600030):\n",
    "    startTime = getStockBaseMarketTime(code)\n",
    "    print startTime \n",
    "    try:\n",
    "        data = pd.read_csv('e:/quant/data/'+str(code)+'.csv')\n",
    "        data = data.sort_values(by=\"date\" , ascending=True)\n",
    "    except IOError as e:\n",
    "        dt = datetime.datetime.now()   \n",
    "        data = ts.get_h_data(str(code) , start=startTime , end=dt.strftime('%Y-%m-%d'))\n",
    "        data.to_csv('e:/quant/data/'+str(code)+'.csv')\n",
    "        return None\n",
    "    return data\n",
    "\n",
    "#获取对应代码的股票历史行情信息\n",
    "def getStockHistInfo(code=600030):\n",
    "    data = getStockHistInfoInner(code)\n",
    "    if data is None:\n",
    "        data = getStockHistInfoInner(code)\n",
    "    if data is None:\n",
    "        logging.exception('the stock is still none')      \n",
    "    return data\n",
    "        \n",
    "    \n",
    "#EMA（12）= 前一日EMA（12）×11/13＋今日收盘价×2/13\n",
    "#EMA（26）= 前一日EMA（26）×25/27＋今日收盘价×2/27\n",
    "#DIFF=今日EMA（12）- 今日EMA（26）\n",
    "#DEA（MACD）= 前一日DEA×8/10＋今日DIF×2/10 \n",
    "#BAR=2×(DIFF－DEA)\n",
    "\n",
    "def calcMacd(data=None , code=600030):\n",
    "    if data is None:\n",
    "        return None\n",
    "    data['ema12'] = 0\n",
    "    data['ema26'] = 0\n",
    "    data['diff'] = 0\n",
    "    data['dea'] = 0\n",
    "    data['bar'] = 0\n",
    "    \n",
    "    \n",
    "    for i in range(1,len(data),1):\n",
    "        ema12 = round(round(data.iloc[i-1]['ema12'] * 11.0 / 13.0 , 4) + round(data.iloc[i]['close'] * 2.0 / 13.0 , 4) , 3)\n",
    "        ema26 = round(round(data.iloc[i-1]['ema26'] * 25.0 / 27.0 , 4) + round(data.iloc[i]['close'] * 2.0 / 27.0 , 4) , 3)\n",
    "        dif = round(ema12 - ema26 , 3)\n",
    "        dea = round(round(data.iloc[i-1]['dea'] * 8.0 / 10.0 , 4) + round(dif * 2.0 / 10.0 , 4) , 3)\n",
    "        bar = round(2 * (dif - dea) , 3)\n",
    "        data.iloc[i] = data.iloc[i].set_value('ema12' , ema12) \n",
    "        data.iloc[i] = data.iloc[i].set_value('ema26' , ema26 )   \n",
    "        data.iloc[i] = data.iloc[i].set_value('diff' , dif)\n",
    "        data.iloc[i] = data.iloc[i].set_value('dea' , dea)\n",
    "        data.iloc[i] = data.iloc[i].set_value('bar' , bar)\n",
    "    data.to_csv('e:/quant/data/'+str(code)+'_macd.csv')\n",
    "    return data\n",
    "\n",
    "data = getStockHistInfo(600030)\n",
    "macd = calcMacd(data , 600030)\n",
    "#print data.head()\n",
    "print macd.head()\n",
    "\n",
    "\n"
   ]
  }
 ],
 "metadata": {
  "kernelspec": {
   "display_name": "Python 2",
   "language": "python",
   "name": "python2"
  },
  "language_info": {
   "codemirror_mode": {
    "name": "ipython",
    "version": 2
   },
   "file_extension": ".py",
   "mimetype": "text/x-python",
   "name": "python",
   "nbconvert_exporter": "python",
   "pygments_lexer": "ipython2",
   "version": "2.7.11"
  }
 },
 "nbformat": 4,
 "nbformat_minor": 0
}
