{
 "cells": [
  {
   "cell_type": "code",
   "execution_count": 35,
   "metadata": {
    "collapsed": false
   },
   "outputs": [],
   "source": [
    "import tushare as ts\n",
    "import pandas as pd\n",
    "import datetime"
   ]
  },
  {
   "cell_type": "code",
   "execution_count": 36,
   "metadata": {
    "collapsed": false,
    "scrolled": true
   },
   "outputs": [
    {
     "name": "stdout",
     "output_type": "stream",
     "text": [
      "code                          1\n",
      "name                       平安银行\n",
      "industry                     银行\n",
      "area                         深圳\n",
      "pe                          6.1\n",
      "outstanding         1.18041e+06\n",
      "totals              1.43087e+06\n",
      "totalAssets         2.59906e+08\n",
      "liquidAssets                  0\n",
      "fixedAssets              440600\n",
      "reserved             5.9326e+06\n",
      "reservedPerShare           4.15\n",
      "esp                        1.27\n",
      "bvps                      10.98\n",
      "pb                         0.92\n",
      "timeToMarket           19910403\n",
      "Name: 0, dtype: object\n",
      "19910403\n",
      "1991-04-03\n"
     ]
    }
   ],
   "source": [
    "#basics = ts.get_stock_basics()\n",
    "#basics.to_csv('e:/quant/data/bascis.json')\n",
    "basics = pd.read_csv('e:/quant/data/bascis.json')\n",
    "data = basics.iloc[0]\n",
    "print data\n",
    "timeToMarket = data['timeToMarket']\n",
    "print timeToMarket\n",
    "startDate = datetime.datetime(timeToMarket/10000 ,timeToMarket%10000/100 , timeToMarket%10000%100) \n",
    "print startDate.strftime('%Y-%m-%d')\n",
    "#sh=ts.get_h_data('000001' , start=timeToMarket[0:4]+'-'+timeToMarket[4:6]+'-'+timeToMarket[6:] , end='2016-02-18') \n",
    "#print sh.head()\n",
    "\n",
    "\n"
   ]
  }
 ],
 "metadata": {
  "kernelspec": {
   "display_name": "Python 2",
   "language": "python",
   "name": "python2"
  },
  "language_info": {
   "codemirror_mode": {
    "name": "ipython",
    "version": 2
   },
   "file_extension": ".py",
   "mimetype": "text/x-python",
   "name": "python",
   "nbconvert_exporter": "python",
   "pygments_lexer": "ipython2",
   "version": "2.7.11"
  }
 },
 "nbformat": 4,
 "nbformat_minor": 0
}
