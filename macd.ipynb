{
 "cells": [
  {
   "cell_type": "code",
   "execution_count": 33,
   "metadata": {
    "collapsed": false
   },
   "outputs": [],
   "source": [
    "import tushare as ts\n",
    "import pandas as pd\n",
    "import datetime"
   ]
  },
  {
   "cell_type": "code",
   "execution_count": 34,
   "metadata": {
    "collapsed": false,
    "scrolled": true
   },
   "outputs": [
    {
     "name": "stdout",
     "output_type": "stream",
     "text": [
      "code                          2\n",
      "name                      万  科Ａ\n",
      "industry                   全国地产\n",
      "area                         深圳\n",
      "pe                        29.51\n",
      "outstanding              970833\n",
      "totals              1.10391e+06\n",
      "totalAssets         5.70793e+07\n",
      "liquidAssets        5.20001e+07\n",
      "fixedAssets              404016\n",
      "reserved                 834237\n",
      "reservedPerShare           0.76\n",
      "esp                       0.621\n",
      "bvps                       8.05\n",
      "pb                         3.04\n",
      "timeToMarket           19910129\n",
      "Name: 1, dtype: object\n",
      "19910129\n",
      "1991-01-29\n"
     ]
    }
   ],
   "source": [
    "#basics = ts.get_stock_basics()\n",
    "#basics.to_csv('e:/quant/data/bascis.json')\n",
    "basics = pd.read_csv('e:/quant/data/bascis.json')\n",
    "data = basics.iloc[0]\n",
    "print data\n",
    "timeToMarket = data['timeToMarket']\n",
    "print timeToMarket\n",
    "startDate = datetime.datetime(timeToMarket/10000 ,timeToMarket%10000/100 , timeToMarket%10000%100) \n",
    "print startDate.strftime('%Y-%m-%d')\n",
    "#sh=ts.get_h_data('000001' , start=timeToMarket[0:4]+'-'+timeToMarket[4:6]+'-'+timeToMarket[6:] , end='2016-02-18') \n",
    "#print sh.head()\n",
    "\n",
    "\n"
   ]
  }
 ],
 "metadata": {
  "kernelspec": {
   "display_name": "Python 2",
   "language": "python",
   "name": "python2"
  },
  "language_info": {
   "codemirror_mode": {
    "name": "ipython",
    "version": 2
   },
   "file_extension": ".py",
   "mimetype": "text/x-python",
   "name": "python",
   "nbconvert_exporter": "python",
   "pygments_lexer": "ipython2",
   "version": "2.7.11"
  }
 },
 "nbformat": 4,
 "nbformat_minor": 0
}
